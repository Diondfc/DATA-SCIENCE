{
 "cells": [
  {
   "cell_type": "markdown",
   "id": "c4d6fb7c-68ae-4d65-9625-946bcc0f9f0a",
   "metadata": {},
   "source": [
    "#Data Science Tools and Ecosystem\n",
    "\n"
   ]
  },
  {
   "cell_type": "markdown",
   "id": "1c3ee6c5-1262-4164-829c-4e4c1cc7bd08",
   "metadata": {},
   "source": [
    "Write an introductory sentence about the notebook such as the follows:\n",
    "\n",
    "In this notebook, Data Science Tools and Ecosystem are summarized.\n"
   ]
  },
  {
   "cell_type": "markdown",
   "id": "5abb8014-c3d9-4519-86c7-7765365cd656",
   "metadata": {},
   "source": [
    "Some of the popular languages that Data Scientists use are:\n",
    "\n",
    "1. Python  \n",
    "2. R  \n",
    "3. SQL  \n",
    "\n",
    "|"
   ]
  },
  {
   "cell_type": "markdown",
   "id": "0ff67f6d-d8ee-45bb-a127-59ffbbf2ed58",
   "metadata": {},
   "source": [
    "| Data Science Tools        |\n",
    "|---------------------------|\n",
    "| Jupyter Notebook          |\n",
    "| RStudio                   |\n",
    "| Visual Studio Code        |\n",
    "\n"
   ]
  },
  {
   "cell_type": "markdown",
   "id": "a0f97aef-aeb6-41ce-9186-53e55b63cec8",
   "metadata": {},
   "source": [
    "### Below are a few examples of evaluating arithmetic expressions in Python.\n",
    "\n",
    "**Objectives:**\n",
    "\n",
    "- List popular languages for Data Science  \n",
    "- Identify commonly used Data Science tools  \n",
    "- Create and format markdown cells in a Jupyter Notebook  \n",
    "- Perform basic arithmetic operations in Python  \n",
    "- Understand the ecosystem of tools used in Data Science\n",
    "\n"
   ]
  },
  {
   "cell_type": "code",
   "execution_count": 2,
   "id": "43bbcb5b-17eb-4a8c-ac73-353b261b1db3",
   "metadata": {},
   "outputs": [
    {
     "data": {
      "text/plain": [
       "17"
      ]
     },
     "execution_count": 2,
     "metadata": {},
     "output_type": "execute_result"
    }
   ],
   "source": [
    "(3*4)+5 # This a simple arithmetic expression to mutiply then add integers"
   ]
  },
  {
   "cell_type": "code",
   "execution_count": 5,
   "id": "ab01afe7-db0e-414f-8575-9be0256ba9ad",
   "metadata": {},
   "outputs": [
    {
     "data": {
      "text/plain": [
       "3.3333333333333335"
      ]
     },
     "execution_count": 5,
     "metadata": {},
     "output_type": "execute_result"
    }
   ],
   "source": [
    "200/60 #This will convert 200 minutes to hours by diving by 60"
   ]
  },
  {
   "cell_type": "markdown",
   "id": "77a907cf-706b-460f-a8a1-4e5da0ac5d8c",
   "metadata": {},
   "source": [
    "## Author\n",
    "Dion Gjakova"
   ]
  },
  {
   "cell_type": "code",
   "execution_count": null,
   "id": "9d94d679-b9ef-4261-8a55-21f54dff2e91",
   "metadata": {},
   "outputs": [],
   "source": []
  }
 ],
 "metadata": {
  "kernelspec": {
   "display_name": "Python 3 (ipykernel)",
   "language": "python",
   "name": "python3"
  },
  "language_info": {
   "codemirror_mode": {
    "name": "ipython",
    "version": 3
   },
   "file_extension": ".py",
   "mimetype": "text/x-python",
   "name": "python",
   "nbconvert_exporter": "python",
   "pygments_lexer": "ipython3",
   "version": "3.12.2"
  }
 },
 "nbformat": 4,
 "nbformat_minor": 5
}
